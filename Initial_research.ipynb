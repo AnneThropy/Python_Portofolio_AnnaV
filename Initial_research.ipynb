{
 "cells": [
  {
   "cell_type": "markdown",
   "metadata": {},
   "source": [
    "## Initial research.\n",
    "\n",
    "**Task:** Conduct a preliminary study of the data and formulate what should be considered a _purchase_.\n",
    "You can justify your choice with the help of payment facts, order statuses, and other available data."
   ]
  },
  {
   "cell_type": "code",
   "execution_count": 4,
   "metadata": {},
   "outputs": [
    {
     "name": "stderr",
     "output_type": "stream",
     "text": [
      "/var/folders/qp/pbljlgmj5vj88c5rdfd11b480000gn/T/ipykernel_7138/4080736814.py:1: DeprecationWarning: \n",
      "Pyarrow will become a required dependency of pandas in the next major release of pandas (pandas 3.0),\n",
      "(to allow more performant data types, such as the Arrow string type, and better interoperability with other libraries)\n",
      "but was not found to be installed on your system.\n",
      "If this would cause problems for you,\n",
      "please provide us feedback at https://github.com/pandas-dev/pandas/issues/54466\n",
      "        \n",
      "  import pandas as pd\n"
     ]
    }
   ],
   "source": [
    "import pandas as pd"
   ]
  },
  {
   "cell_type": "markdown",
   "metadata": {},
   "source": [
    "### 1. Let's explore our dataframes\n",
    "\n",
    "**Data Understanding**\n",
    "- Dataframe shapes\n",
    "- Dataframe preview\n",
    "- Datatypes\n",
    "- Unique values\n"
   ]
  },
  {
   "cell_type": "markdown",
   "metadata": {},
   "source": [
    " #### Customers dataset:"
   ]
  },
  {
   "cell_type": "code",
   "execution_count": 5,
   "metadata": {},
   "outputs": [
    {
     "data": {
      "text/html": [
       "<div>\n",
       "<style scoped>\n",
       "    .dataframe tbody tr th:only-of-type {\n",
       "        vertical-align: middle;\n",
       "    }\n",
       "\n",
       "    .dataframe tbody tr th {\n",
       "        vertical-align: top;\n",
       "    }\n",
       "\n",
       "    .dataframe thead th {\n",
       "        text-align: right;\n",
       "    }\n",
       "</style>\n",
       "<table border=\"1\" class=\"dataframe\">\n",
       "  <thead>\n",
       "    <tr style=\"text-align: right;\">\n",
       "      <th></th>\n",
       "      <th>customer_id</th>\n",
       "      <th>customer_unique_id</th>\n",
       "      <th>customer_zip_code_prefix</th>\n",
       "      <th>customer_city</th>\n",
       "      <th>customer_state</th>\n",
       "    </tr>\n",
       "  </thead>\n",
       "  <tbody>\n",
       "    <tr>\n",
       "      <th>0</th>\n",
       "      <td>06b8999e2fba1a1fbc88172c00ba8bc7</td>\n",
       "      <td>861eff4711a542e4b93843c6dd7febb0</td>\n",
       "      <td>14409</td>\n",
       "      <td>franca</td>\n",
       "      <td>SP</td>\n",
       "    </tr>\n",
       "    <tr>\n",
       "      <th>1</th>\n",
       "      <td>18955e83d337fd6b2def6b18a428ac77</td>\n",
       "      <td>290c77bc529b7ac935b93aa66c333dc3</td>\n",
       "      <td>9790</td>\n",
       "      <td>sao bernardo do campo</td>\n",
       "      <td>SP</td>\n",
       "    </tr>\n",
       "    <tr>\n",
       "      <th>2</th>\n",
       "      <td>4e7b3e00288586ebd08712fdd0374a03</td>\n",
       "      <td>060e732b5b29e8181a18229c7b0b2b5e</td>\n",
       "      <td>1151</td>\n",
       "      <td>sao paulo</td>\n",
       "      <td>SP</td>\n",
       "    </tr>\n",
       "    <tr>\n",
       "      <th>3</th>\n",
       "      <td>b2b6027bc5c5109e529d4dc6358b12c3</td>\n",
       "      <td>259dac757896d24d7702b9acbbff3f3c</td>\n",
       "      <td>8775</td>\n",
       "      <td>mogi das cruzes</td>\n",
       "      <td>SP</td>\n",
       "    </tr>\n",
       "    <tr>\n",
       "      <th>4</th>\n",
       "      <td>4f2d8ab171c80ec8364f7c12e35b23ad</td>\n",
       "      <td>345ecd01c38d18a9036ed96c73b8d066</td>\n",
       "      <td>13056</td>\n",
       "      <td>campinas</td>\n",
       "      <td>SP</td>\n",
       "    </tr>\n",
       "  </tbody>\n",
       "</table>\n",
       "</div>"
      ],
      "text/plain": [
       "                        customer_id                customer_unique_id  \\\n",
       "0  06b8999e2fba1a1fbc88172c00ba8bc7  861eff4711a542e4b93843c6dd7febb0   \n",
       "1  18955e83d337fd6b2def6b18a428ac77  290c77bc529b7ac935b93aa66c333dc3   \n",
       "2  4e7b3e00288586ebd08712fdd0374a03  060e732b5b29e8181a18229c7b0b2b5e   \n",
       "3  b2b6027bc5c5109e529d4dc6358b12c3  259dac757896d24d7702b9acbbff3f3c   \n",
       "4  4f2d8ab171c80ec8364f7c12e35b23ad  345ecd01c38d18a9036ed96c73b8d066   \n",
       "\n",
       "   customer_zip_code_prefix          customer_city customer_state  \n",
       "0                     14409                 franca             SP  \n",
       "1                      9790  sao bernardo do campo             SP  \n",
       "2                      1151              sao paulo             SP  \n",
       "3                      8775        mogi das cruzes             SP  \n",
       "4                     13056               campinas             SP  "
      ]
     },
     "execution_count": 5,
     "metadata": {},
     "output_type": "execute_result"
    }
   ],
   "source": [
    "customers = pd.read_csv('olist_customers_dataset.csv')\n",
    "customers.head()"
   ]
  },
  {
   "cell_type": "code",
   "execution_count": 6,
   "metadata": {},
   "outputs": [
    {
     "data": {
      "text/plain": [
       "customer_id                 object\n",
       "customer_unique_id          object\n",
       "customer_zip_code_prefix     int64\n",
       "customer_city               object\n",
       "customer_state              object\n",
       "dtype: object"
      ]
     },
     "execution_count": 6,
     "metadata": {},
     "output_type": "execute_result"
    }
   ],
   "source": [
    "customers.dtypes"
   ]
  },
  {
   "cell_type": "code",
   "execution_count": 7,
   "metadata": {},
   "outputs": [
    {
     "data": {
      "text/plain": [
       "(99441, 5)"
      ]
     },
     "execution_count": 7,
     "metadata": {},
     "output_type": "execute_result"
    }
   ],
   "source": [
    "customers.shape"
   ]
  },
  {
   "cell_type": "code",
   "execution_count": 8,
   "metadata": {},
   "outputs": [
    {
     "data": {
      "text/plain": [
       "customer_id                 99441\n",
       "customer_unique_id          96096\n",
       "customer_zip_code_prefix    14994\n",
       "customer_city                4119\n",
       "customer_state                 27\n",
       "dtype: int64"
      ]
     },
     "execution_count": 8,
     "metadata": {},
     "output_type": "execute_result"
    }
   ],
   "source": [
    "customers.nunique() "
   ]
  },
  {
   "cell_type": "markdown",
   "metadata": {},
   "source": [
    "**Observations:**\n",
    "We have 96096 unique `customer_unique_id`, 3k less than `customer_id`, the number of which matches the dataframe size.\n",
    "All customers have their address information.\n",
    "\n",
    "Let's confirm that `customer_unique_id` can be listed multiple times."
   ]
  },
  {
   "cell_type": "code",
   "execution_count": 9,
   "metadata": {},
   "outputs": [
    {
     "data": {
      "text/plain": [
       "customer_unique_id\n",
       "8d50f5eadf50201ccdcedfb9e2ac8455    17\n",
       "3e43e6105506432c953e165fb2acf44c     9\n",
       "1b6c7548a2a1f9037c1fd3ddfed95f33     7\n",
       "ca77025e7201e3b30c44b472ff346268     7\n",
       "6469f99c1f9dfae7733b25662e7f1782     7\n",
       "Name: count, dtype: int64"
      ]
     },
     "execution_count": 9,
     "metadata": {},
     "output_type": "execute_result"
    }
   ],
   "source": [
    "customers.customer_unique_id.value_counts().head()"
   ]
  },
  {
   "cell_type": "markdown",
   "metadata": {},
   "source": [
    "**Result**:\n",
    "\n",
    "Some users might have multiple records/accounts, resulting in different `customer_id`s. As these are the same users, we shall use `customer_unique_id` as the primary grouping value to have correct data per user."
   ]
  },
  {
   "cell_type": "markdown",
   "metadata": {},
   "source": [
    "---"
   ]
  },
  {
   "cell_type": "markdown",
   "metadata": {},
   "source": [
    "### Orders dataset:"
   ]
  },
  {
   "cell_type": "code",
   "execution_count": 10,
   "metadata": {},
   "outputs": [
    {
     "data": {
      "text/plain": [
       "order_id                         object\n",
       "customer_id                      object\n",
       "order_status                     object\n",
       "order_purchase_timestamp         object\n",
       "order_approved_at                object\n",
       "order_delivered_carrier_date     object\n",
       "order_delivered_customer_date    object\n",
       "order_estimated_delivery_date    object\n",
       "dtype: object"
      ]
     },
     "execution_count": 10,
     "metadata": {},
     "output_type": "execute_result"
    }
   ],
   "source": [
    "orders = pd.read_csv('olist_orders_dataset.csv')\n",
    "orders.dtypes"
   ]
  },
  {
   "cell_type": "markdown",
   "metadata": {},
   "source": [
    "Lots of dates are shown in object format. Let's change the import to have them in proper datetime formats."
   ]
  },
  {
   "cell_type": "code",
   "execution_count": 11,
   "metadata": {},
   "outputs": [
    {
     "data": {
      "text/html": [
       "<div>\n",
       "<style scoped>\n",
       "    .dataframe tbody tr th:only-of-type {\n",
       "        vertical-align: middle;\n",
       "    }\n",
       "\n",
       "    .dataframe tbody tr th {\n",
       "        vertical-align: top;\n",
       "    }\n",
       "\n",
       "    .dataframe thead th {\n",
       "        text-align: right;\n",
       "    }\n",
       "</style>\n",
       "<table border=\"1\" class=\"dataframe\">\n",
       "  <thead>\n",
       "    <tr style=\"text-align: right;\">\n",
       "      <th></th>\n",
       "      <th>order_id</th>\n",
       "      <th>customer_id</th>\n",
       "      <th>order_status</th>\n",
       "      <th>order_purchase_timestamp</th>\n",
       "      <th>order_approved_at</th>\n",
       "      <th>order_delivered_carrier_date</th>\n",
       "      <th>order_delivered_customer_date</th>\n",
       "      <th>order_estimated_delivery_date</th>\n",
       "    </tr>\n",
       "  </thead>\n",
       "  <tbody>\n",
       "    <tr>\n",
       "      <th>0</th>\n",
       "      <td>e481f51cbdc54678b7cc49136f2d6af7</td>\n",
       "      <td>9ef432eb6251297304e76186b10a928d</td>\n",
       "      <td>delivered</td>\n",
       "      <td>2017-10-02 10:56:33</td>\n",
       "      <td>2017-10-02 11:07:15</td>\n",
       "      <td>2017-10-04 19:55:00</td>\n",
       "      <td>2017-10-10 21:25:13</td>\n",
       "      <td>2017-10-18</td>\n",
       "    </tr>\n",
       "    <tr>\n",
       "      <th>1</th>\n",
       "      <td>53cdb2fc8bc7dce0b6741e2150273451</td>\n",
       "      <td>b0830fb4747a6c6d20dea0b8c802d7ef</td>\n",
       "      <td>delivered</td>\n",
       "      <td>2018-07-24 20:41:37</td>\n",
       "      <td>2018-07-26 03:24:27</td>\n",
       "      <td>2018-07-26 14:31:00</td>\n",
       "      <td>2018-08-07 15:27:45</td>\n",
       "      <td>2018-08-13</td>\n",
       "    </tr>\n",
       "    <tr>\n",
       "      <th>2</th>\n",
       "      <td>47770eb9100c2d0c44946d9cf07ec65d</td>\n",
       "      <td>41ce2a54c0b03bf3443c3d931a367089</td>\n",
       "      <td>delivered</td>\n",
       "      <td>2018-08-08 08:38:49</td>\n",
       "      <td>2018-08-08 08:55:23</td>\n",
       "      <td>2018-08-08 13:50:00</td>\n",
       "      <td>2018-08-17 18:06:29</td>\n",
       "      <td>2018-09-04</td>\n",
       "    </tr>\n",
       "    <tr>\n",
       "      <th>3</th>\n",
       "      <td>949d5b44dbf5de918fe9c16f97b45f8a</td>\n",
       "      <td>f88197465ea7920adcdbec7375364d82</td>\n",
       "      <td>delivered</td>\n",
       "      <td>2017-11-18 19:28:06</td>\n",
       "      <td>2017-11-18 19:45:59</td>\n",
       "      <td>2017-11-22 13:39:59</td>\n",
       "      <td>2017-12-02 00:28:42</td>\n",
       "      <td>2017-12-15</td>\n",
       "    </tr>\n",
       "    <tr>\n",
       "      <th>4</th>\n",
       "      <td>ad21c59c0840e6cb83a9ceb5573f8159</td>\n",
       "      <td>8ab97904e6daea8866dbdbc4fb7aad2c</td>\n",
       "      <td>delivered</td>\n",
       "      <td>2018-02-13 21:18:39</td>\n",
       "      <td>2018-02-13 22:20:29</td>\n",
       "      <td>2018-02-14 19:46:34</td>\n",
       "      <td>2018-02-16 18:17:02</td>\n",
       "      <td>2018-02-26</td>\n",
       "    </tr>\n",
       "  </tbody>\n",
       "</table>\n",
       "</div>"
      ],
      "text/plain": [
       "                           order_id                       customer_id  \\\n",
       "0  e481f51cbdc54678b7cc49136f2d6af7  9ef432eb6251297304e76186b10a928d   \n",
       "1  53cdb2fc8bc7dce0b6741e2150273451  b0830fb4747a6c6d20dea0b8c802d7ef   \n",
       "2  47770eb9100c2d0c44946d9cf07ec65d  41ce2a54c0b03bf3443c3d931a367089   \n",
       "3  949d5b44dbf5de918fe9c16f97b45f8a  f88197465ea7920adcdbec7375364d82   \n",
       "4  ad21c59c0840e6cb83a9ceb5573f8159  8ab97904e6daea8866dbdbc4fb7aad2c   \n",
       "\n",
       "  order_status order_purchase_timestamp   order_approved_at  \\\n",
       "0    delivered      2017-10-02 10:56:33 2017-10-02 11:07:15   \n",
       "1    delivered      2018-07-24 20:41:37 2018-07-26 03:24:27   \n",
       "2    delivered      2018-08-08 08:38:49 2018-08-08 08:55:23   \n",
       "3    delivered      2017-11-18 19:28:06 2017-11-18 19:45:59   \n",
       "4    delivered      2018-02-13 21:18:39 2018-02-13 22:20:29   \n",
       "\n",
       "  order_delivered_carrier_date order_delivered_customer_date  \\\n",
       "0          2017-10-04 19:55:00           2017-10-10 21:25:13   \n",
       "1          2018-07-26 14:31:00           2018-08-07 15:27:45   \n",
       "2          2018-08-08 13:50:00           2018-08-17 18:06:29   \n",
       "3          2017-11-22 13:39:59           2017-12-02 00:28:42   \n",
       "4          2018-02-14 19:46:34           2018-02-16 18:17:02   \n",
       "\n",
       "  order_estimated_delivery_date  \n",
       "0                    2017-10-18  \n",
       "1                    2018-08-13  \n",
       "2                    2018-09-04  \n",
       "3                    2017-12-15  \n",
       "4                    2018-02-26  "
      ]
     },
     "execution_count": 11,
     "metadata": {},
     "output_type": "execute_result"
    }
   ],
   "source": [
    "orders = pd.read_csv('olist_orders_dataset.csv', \n",
    "                     parse_dates=['order_purchase_timestamp', 'order_approved_at', \n",
    "                                  'order_delivered_carrier_date', 'order_delivered_customer_date',\n",
    "                                 'order_estimated_delivery_date'])\n",
    "orders.head()"
   ]
  },
  {
   "cell_type": "code",
   "execution_count": 12,
   "metadata": {},
   "outputs": [
    {
     "data": {
      "text/plain": [
       "order_id                                 object\n",
       "customer_id                              object\n",
       "order_status                             object\n",
       "order_purchase_timestamp         datetime64[ns]\n",
       "order_approved_at                datetime64[ns]\n",
       "order_delivered_carrier_date     datetime64[ns]\n",
       "order_delivered_customer_date    datetime64[ns]\n",
       "order_estimated_delivery_date    datetime64[ns]\n",
       "dtype: object"
      ]
     },
     "execution_count": 12,
     "metadata": {},
     "output_type": "execute_result"
    }
   ],
   "source": [
    "orders.dtypes"
   ]
  },
  {
   "cell_type": "code",
   "execution_count": 13,
   "metadata": {},
   "outputs": [
    {
     "data": {
      "text/plain": [
       "(99441, 8)"
      ]
     },
     "execution_count": 13,
     "metadata": {},
     "output_type": "execute_result"
    }
   ],
   "source": [
    "orders.shape"
   ]
  },
  {
   "cell_type": "code",
   "execution_count": 14,
   "metadata": {},
   "outputs": [
    {
     "data": {
      "text/plain": [
       "order_id                         99441\n",
       "customer_id                      99441\n",
       "order_status                         8\n",
       "order_purchase_timestamp         98875\n",
       "order_approved_at                90733\n",
       "order_delivered_carrier_date     81018\n",
       "order_delivered_customer_date    95664\n",
       "order_estimated_delivery_date      459\n",
       "dtype: int64"
      ]
     },
     "execution_count": 14,
     "metadata": {},
     "output_type": "execute_result"
    }
   ],
   "source": [
    "orders.nunique()"
   ]
  },
  {
   "cell_type": "markdown",
   "metadata": {},
   "source": [
    "**Observations:**\n",
    "The number of unique `order_id` matches unique `customer_id`\n",
    "\n",
    "**Result**:\n",
    "Each row corresponds with the unique purchase from the unique one-time identifier of our user"
   ]
  },
  {
   "cell_type": "markdown",
   "metadata": {},
   "source": [
    "---"
   ]
  },
  {
   "cell_type": "markdown",
   "metadata": {},
   "source": [
    "Let's explore the time ranges we have in our dataset:"
   ]
  },
  {
   "cell_type": "code",
   "execution_count": 19,
   "metadata": {},
   "outputs": [
    {
     "data": {
      "text/html": [
       "<div>\n",
       "<style scoped>\n",
       "    .dataframe tbody tr th:only-of-type {\n",
       "        vertical-align: middle;\n",
       "    }\n",
       "\n",
       "    .dataframe tbody tr th {\n",
       "        vertical-align: top;\n",
       "    }\n",
       "\n",
       "    .dataframe thead th {\n",
       "        text-align: right;\n",
       "    }\n",
       "</style>\n",
       "<table border=\"1\" class=\"dataframe\">\n",
       "  <thead>\n",
       "    <tr style=\"text-align: right;\">\n",
       "      <th></th>\n",
       "      <th>order_purchase_timestamp</th>\n",
       "      <th>order_approved_at</th>\n",
       "      <th>order_delivered_carrier_date</th>\n",
       "      <th>order_delivered_customer_date</th>\n",
       "      <th>order_estimated_delivery_date</th>\n",
       "    </tr>\n",
       "  </thead>\n",
       "  <tbody>\n",
       "    <tr>\n",
       "      <th>min</th>\n",
       "      <td>2016-09-04 21:15:19</td>\n",
       "      <td>2016-09-15 12:16:38</td>\n",
       "      <td>2016-10-08 10:34:01</td>\n",
       "      <td>2016-10-11 13:46:32</td>\n",
       "      <td>2016-09-30</td>\n",
       "    </tr>\n",
       "    <tr>\n",
       "      <th>max</th>\n",
       "      <td>2018-10-17 17:30:18</td>\n",
       "      <td>2018-09-03 17:40:06</td>\n",
       "      <td>2018-09-11 19:48:28</td>\n",
       "      <td>2018-10-17 13:22:46</td>\n",
       "      <td>2018-11-12</td>\n",
       "    </tr>\n",
       "  </tbody>\n",
       "</table>\n",
       "</div>"
      ],
      "text/plain": [
       "    order_purchase_timestamp   order_approved_at order_delivered_carrier_date  \\\n",
       "min      2016-09-04 21:15:19 2016-09-15 12:16:38          2016-10-08 10:34:01   \n",
       "max      2018-10-17 17:30:18 2018-09-03 17:40:06          2018-09-11 19:48:28   \n",
       "\n",
       "    order_delivered_customer_date order_estimated_delivery_date  \n",
       "min           2016-10-11 13:46:32                    2016-09-30  \n",
       "max           2018-10-17 13:22:46                    2018-11-12  "
      ]
     },
     "execution_count": 19,
     "metadata": {},
     "output_type": "execute_result"
    }
   ],
   "source": [
    "orders[[\"order_purchase_timestamp\", \"order_approved_at\", \"order_delivered_carrier_date\", \n",
    "    \"order_delivered_customer_date\", \"order_estimated_delivery_date\"]].agg(['min', 'max'])"
   ]
  },
  {
   "cell_type": "markdown",
   "metadata": {},
   "source": [
    "Thus, we have data from *2016-09-04* till *2018-10-17,* but\n",
    "- `estimated_delivery_date` is outside of the range with *November 2018*.\n",
    "- Maximum date corresponds with the canceled order\n",
    "\n",
    "If we exclude canceled orders, we'll get the following:"
   ]
  },
  {
   "cell_type": "code",
   "execution_count": 20,
   "metadata": {},
   "outputs": [
    {
     "data": {
      "text/html": [
       "<div>\n",
       "<style scoped>\n",
       "    .dataframe tbody tr th:only-of-type {\n",
       "        vertical-align: middle;\n",
       "    }\n",
       "\n",
       "    .dataframe tbody tr th {\n",
       "        vertical-align: top;\n",
       "    }\n",
       "\n",
       "    .dataframe thead th {\n",
       "        text-align: right;\n",
       "    }\n",
       "</style>\n",
       "<table border=\"1\" class=\"dataframe\">\n",
       "  <thead>\n",
       "    <tr style=\"text-align: right;\">\n",
       "      <th></th>\n",
       "      <th>order_id</th>\n",
       "      <th>customer_id</th>\n",
       "      <th>order_status</th>\n",
       "      <th>order_purchase_timestamp</th>\n",
       "      <th>order_approved_at</th>\n",
       "      <th>order_delivered_carrier_date</th>\n",
       "      <th>order_delivered_customer_date</th>\n",
       "      <th>order_estimated_delivery_date</th>\n",
       "    </tr>\n",
       "  </thead>\n",
       "  <tbody>\n",
       "    <tr>\n",
       "      <th>82521</th>\n",
       "      <td>0ba4f7e89d304a02edca85087abfd14c</td>\n",
       "      <td>b5c1c56fe1ec3cec6893b98d90a339bd</td>\n",
       "      <td>delivered</td>\n",
       "      <td>2018-08-13 22:51:49</td>\n",
       "      <td>2018-08-13 23:04:09</td>\n",
       "      <td>2018-08-22 14:04:00</td>\n",
       "      <td>2018-08-30 23:38:26</td>\n",
       "      <td>2018-10-25</td>\n",
       "    </tr>\n",
       "    <tr>\n",
       "      <th>30710</th>\n",
       "      <td>bfbd0f9bdef84302105ad712db648a6c</td>\n",
       "      <td>86dc2ffce2dfff336de2f386a786e574</td>\n",
       "      <td>delivered</td>\n",
       "      <td>2016-09-15 12:16:38</td>\n",
       "      <td>2016-09-15 12:16:38</td>\n",
       "      <td>2016-11-07 17:11:53</td>\n",
       "      <td>2016-11-09 07:47:38</td>\n",
       "      <td>2016-10-04</td>\n",
       "    </tr>\n",
       "  </tbody>\n",
       "</table>\n",
       "</div>"
      ],
      "text/plain": [
       "                               order_id                       customer_id  \\\n",
       "82521  0ba4f7e89d304a02edca85087abfd14c  b5c1c56fe1ec3cec6893b98d90a339bd   \n",
       "30710  bfbd0f9bdef84302105ad712db648a6c  86dc2ffce2dfff336de2f386a786e574   \n",
       "\n",
       "      order_status order_purchase_timestamp   order_approved_at  \\\n",
       "82521    delivered      2018-08-13 22:51:49 2018-08-13 23:04:09   \n",
       "30710    delivered      2016-09-15 12:16:38 2016-09-15 12:16:38   \n",
       "\n",
       "      order_delivered_carrier_date order_delivered_customer_date  \\\n",
       "82521          2018-08-22 14:04:00           2018-08-30 23:38:26   \n",
       "30710          2016-11-07 17:11:53           2016-11-09 07:47:38   \n",
       "\n",
       "      order_estimated_delivery_date  \n",
       "82521                    2018-10-25  \n",
       "30710                    2016-10-04  "
      ]
     },
     "execution_count": 20,
     "metadata": {},
     "output_type": "execute_result"
    }
   ],
   "source": [
    "not_cenceled = orders.loc[orders.order_status != 'canceled'].sort_values('order_estimated_delivery_date', \n",
    "                                                                         ascending=False)\n",
    "pd.concat([not_cenceled.head(1), not_cenceled.tail(1)])"
   ]
  },
  {
   "cell_type": "markdown",
   "metadata": {},
   "source": [
    "The max date by `estimated_delivery_date` is now *2018-10-25* for the order already delivered in August.\n",
    "Last actual delivery is on *2018-10-17*, the same as last order, so:\n",
    "\n",
    "**Result**\n",
    "- We can consider dates from *2016-09-04* to *2018-10-17* as an actual time period of the data we have \n",
    "\n",
    "---\n",
    "\n",
    "\n",
    "### Order status:"
   ]
  },
  {
   "cell_type": "code",
   "execution_count": 9,
   "metadata": {},
   "outputs": [
    {
     "data": {
      "text/plain": [
       "delivered      96478\n",
       "shipped         1107\n",
       "canceled         625\n",
       "unavailable      609\n",
       "invoiced         314\n",
       "processing       301\n",
       "created            5\n",
       "approved           2\n",
       "Name: order_status, dtype: int64"
      ]
     },
     "execution_count": 9,
     "metadata": {},
     "output_type": "execute_result"
    }
   ],
   "source": [
    "orders.order_status.value_counts()"
   ]
  },
  {
   "cell_type": "markdown",
   "metadata": {},
   "source": [
    "Let's divide the statuses into groups by how they can be related to the purchase:\n",
    "\n",
    "| Is definitely a purchase | Definitely NOT a purchase | Need to be checked | Unknown |\n",
    "| ------------------------ | --------------------------- | ------------------------------------ | ---------------- |\n",
    "| - delivered              | - canceled                  | - shipped                            | - created             |\n",
    "|                          |                | - invoiced | - approved                 |\n",
    "|                          |                             | - processing   | - unavailable            |\n",
    "\n",
    "\n",
    "#### Let's check `approved`, `created`, and `unavailable` statuses first:"
   ]
  },
  {
   "cell_type": "code",
   "execution_count": 15,
   "metadata": {},
   "outputs": [
    {
     "data": {
      "text/html": [
       "<div>\n",
       "<style scoped>\n",
       "    .dataframe tbody tr th:only-of-type {\n",
       "        vertical-align: middle;\n",
       "    }\n",
       "\n",
       "    .dataframe tbody tr th {\n",
       "        vertical-align: top;\n",
       "    }\n",
       "\n",
       "    .dataframe thead th {\n",
       "        text-align: right;\n",
       "    }\n",
       "</style>\n",
       "<table border=\"1\" class=\"dataframe\">\n",
       "  <thead>\n",
       "    <tr style=\"text-align: right;\">\n",
       "      <th></th>\n",
       "      <th>order_id</th>\n",
       "      <th>customer_id</th>\n",
       "      <th>order_status</th>\n",
       "      <th>order_purchase_timestamp</th>\n",
       "      <th>order_approved_at</th>\n",
       "      <th>order_delivered_carrier_date</th>\n",
       "      <th>order_delivered_customer_date</th>\n",
       "      <th>order_estimated_delivery_date</th>\n",
       "    </tr>\n",
       "  </thead>\n",
       "  <tbody>\n",
       "    <tr>\n",
       "      <th>44897</th>\n",
       "      <td>a2e4c44360b4a57bdff22f3a4630c173</td>\n",
       "      <td>8886130db0ea6e9e70ba0b03d7c0d286</td>\n",
       "      <td>approved</td>\n",
       "      <td>2017-02-06 20:18:17</td>\n",
       "      <td>2017-02-06 20:30:19</td>\n",
       "      <td>NaT</td>\n",
       "      <td>NaT</td>\n",
       "      <td>2017-03-01</td>\n",
       "    </tr>\n",
       "    <tr>\n",
       "      <th>88457</th>\n",
       "      <td>132f1e724165a07f6362532bfb97486e</td>\n",
       "      <td>b2191912d8ad6eac2e4dc3b6e1459515</td>\n",
       "      <td>approved</td>\n",
       "      <td>2017-04-25 01:25:34</td>\n",
       "      <td>2017-04-30 20:32:41</td>\n",
       "      <td>NaT</td>\n",
       "      <td>NaT</td>\n",
       "      <td>2017-05-22</td>\n",
       "    </tr>\n",
       "  </tbody>\n",
       "</table>\n",
       "</div>"
      ],
      "text/plain": [
       "                               order_id                       customer_id  \\\n",
       "44897  a2e4c44360b4a57bdff22f3a4630c173  8886130db0ea6e9e70ba0b03d7c0d286   \n",
       "88457  132f1e724165a07f6362532bfb97486e  b2191912d8ad6eac2e4dc3b6e1459515   \n",
       "\n",
       "      order_status order_purchase_timestamp   order_approved_at  \\\n",
       "44897     approved      2017-02-06 20:18:17 2017-02-06 20:30:19   \n",
       "88457     approved      2017-04-25 01:25:34 2017-04-30 20:32:41   \n",
       "\n",
       "      order_delivered_carrier_date order_delivered_customer_date  \\\n",
       "44897                          NaT                           NaT   \n",
       "88457                          NaT                           NaT   \n",
       "\n",
       "      order_estimated_delivery_date  \n",
       "44897                    2017-03-01  \n",
       "88457                    2017-05-22  "
      ]
     },
     "execution_count": 15,
     "metadata": {},
     "output_type": "execute_result"
    }
   ],
   "source": [
    "orders.loc[orders.order_status == 'approved']"
   ]
  },
  {
   "cell_type": "markdown",
   "metadata": {},
   "source": [
    "We have only two orders that were approved in 2017 but never delivered, thus:\n",
    "\n",
    "- *`approved` status is not considered as a purchase*"
   ]
  },
  {
   "cell_type": "code",
   "execution_count": 12,
   "metadata": {},
   "outputs": [
    {
     "data": {
      "text/html": [
       "<div>\n",
       "<style scoped>\n",
       "    .dataframe tbody tr th:only-of-type {\n",
       "        vertical-align: middle;\n",
       "    }\n",
       "\n",
       "    .dataframe tbody tr th {\n",
       "        vertical-align: top;\n",
       "    }\n",
       "\n",
       "    .dataframe thead th {\n",
       "        text-align: right;\n",
       "    }\n",
       "</style>\n",
       "<table border=\"1\" class=\"dataframe\">\n",
       "  <thead>\n",
       "    <tr style=\"text-align: right;\">\n",
       "      <th></th>\n",
       "      <th>order_id</th>\n",
       "      <th>customer_id</th>\n",
       "      <th>order_status</th>\n",
       "      <th>order_purchase_timestamp</th>\n",
       "      <th>order_approved_at</th>\n",
       "      <th>order_delivered_carrier_date</th>\n",
       "      <th>order_delivered_customer_date</th>\n",
       "      <th>order_estimated_delivery_date</th>\n",
       "    </tr>\n",
       "  </thead>\n",
       "  <tbody>\n",
       "    <tr>\n",
       "      <th>7434</th>\n",
       "      <td>b5359909123fa03c50bdb0cfed07f098</td>\n",
       "      <td>438449d4af8980d107bf04571413a8e7</td>\n",
       "      <td>created</td>\n",
       "      <td>2017-12-05 01:07:52</td>\n",
       "      <td>NaT</td>\n",
       "      <td>NaT</td>\n",
       "      <td>NaT</td>\n",
       "      <td>2018-01-11</td>\n",
       "    </tr>\n",
       "    <tr>\n",
       "      <th>9238</th>\n",
       "      <td>dba5062fbda3af4fb6c33b1e040ca38f</td>\n",
       "      <td>964a6df3d9bdf60fe3e7b8bb69ed893a</td>\n",
       "      <td>created</td>\n",
       "      <td>2018-02-09 17:21:04</td>\n",
       "      <td>NaT</td>\n",
       "      <td>NaT</td>\n",
       "      <td>NaT</td>\n",
       "      <td>2018-03-07</td>\n",
       "    </tr>\n",
       "    <tr>\n",
       "      <th>21441</th>\n",
       "      <td>7a4df5d8cff4090e541401a20a22bb80</td>\n",
       "      <td>725e9c75605414b21fd8c8d5a1c2f1d6</td>\n",
       "      <td>created</td>\n",
       "      <td>2017-11-25 11:10:33</td>\n",
       "      <td>NaT</td>\n",
       "      <td>NaT</td>\n",
       "      <td>NaT</td>\n",
       "      <td>2017-12-12</td>\n",
       "    </tr>\n",
       "    <tr>\n",
       "      <th>55086</th>\n",
       "      <td>35de4050331c6c644cddc86f4f2d0d64</td>\n",
       "      <td>4ee64f4bfc542546f422da0aeb462853</td>\n",
       "      <td>created</td>\n",
       "      <td>2017-12-05 01:07:58</td>\n",
       "      <td>NaT</td>\n",
       "      <td>NaT</td>\n",
       "      <td>NaT</td>\n",
       "      <td>2018-01-08</td>\n",
       "    </tr>\n",
       "    <tr>\n",
       "      <th>58958</th>\n",
       "      <td>90ab3e7d52544ec7bc3363c82689965f</td>\n",
       "      <td>7d61b9f4f216052ba664f22e9c504ef1</td>\n",
       "      <td>created</td>\n",
       "      <td>2017-11-06 13:12:34</td>\n",
       "      <td>NaT</td>\n",
       "      <td>NaT</td>\n",
       "      <td>NaT</td>\n",
       "      <td>2017-12-01</td>\n",
       "    </tr>\n",
       "  </tbody>\n",
       "</table>\n",
       "</div>"
      ],
      "text/plain": [
       "                               order_id                       customer_id  \\\n",
       "7434   b5359909123fa03c50bdb0cfed07f098  438449d4af8980d107bf04571413a8e7   \n",
       "9238   dba5062fbda3af4fb6c33b1e040ca38f  964a6df3d9bdf60fe3e7b8bb69ed893a   \n",
       "21441  7a4df5d8cff4090e541401a20a22bb80  725e9c75605414b21fd8c8d5a1c2f1d6   \n",
       "55086  35de4050331c6c644cddc86f4f2d0d64  4ee64f4bfc542546f422da0aeb462853   \n",
       "58958  90ab3e7d52544ec7bc3363c82689965f  7d61b9f4f216052ba664f22e9c504ef1   \n",
       "\n",
       "      order_status order_purchase_timestamp order_approved_at  \\\n",
       "7434       created      2017-12-05 01:07:52               NaT   \n",
       "9238       created      2018-02-09 17:21:04               NaT   \n",
       "21441      created      2017-11-25 11:10:33               NaT   \n",
       "55086      created      2017-12-05 01:07:58               NaT   \n",
       "58958      created      2017-11-06 13:12:34               NaT   \n",
       "\n",
       "      order_delivered_carrier_date order_delivered_customer_date  \\\n",
       "7434                           NaT                           NaT   \n",
       "9238                           NaT                           NaT   \n",
       "21441                          NaT                           NaT   \n",
       "55086                          NaT                           NaT   \n",
       "58958                          NaT                           NaT   \n",
       "\n",
       "      order_estimated_delivery_date  \n",
       "7434                     2018-01-11  \n",
       "9238                     2018-03-07  \n",
       "21441                    2017-12-12  \n",
       "55086                    2018-01-08  \n",
       "58958                    2017-12-01  "
      ]
     },
     "execution_count": 12,
     "metadata": {},
     "output_type": "execute_result"
    }
   ],
   "source": [
    "orders.loc[orders.order_status == 'created']"
   ]
  },
  {
   "cell_type": "markdown",
   "metadata": {},
   "source": [
    "We have five orders created on the edge of 2017 - 2018 but never approved or delivered, thus:\n",
    "\n",
    "- *`created` status is not considered as a purchase*"
   ]
  },
  {
   "cell_type": "code",
   "execution_count": 21,
   "metadata": {},
   "outputs": [
    {
     "data": {
      "text/plain": [
       "(609, 8)"
      ]
     },
     "execution_count": 21,
     "metadata": {},
     "output_type": "execute_result"
    }
   ],
   "source": [
    "orders.loc[orders.order_status == 'unavailable'].shape"
   ]
  },
  {
   "cell_type": "code",
   "execution_count": 22,
   "metadata": {},
   "outputs": [
    {
     "data": {
      "text/html": [
       "<div>\n",
       "<style scoped>\n",
       "    .dataframe tbody tr th:only-of-type {\n",
       "        vertical-align: middle;\n",
       "    }\n",
       "\n",
       "    .dataframe tbody tr th {\n",
       "        vertical-align: top;\n",
       "    }\n",
       "\n",
       "    .dataframe thead th {\n",
       "        text-align: right;\n",
       "    }\n",
       "</style>\n",
       "<table border=\"1\" class=\"dataframe\">\n",
       "  <thead>\n",
       "    <tr style=\"text-align: right;\">\n",
       "      <th></th>\n",
       "      <th>order_id</th>\n",
       "      <th>customer_id</th>\n",
       "      <th>order_status</th>\n",
       "      <th>order_purchase_timestamp</th>\n",
       "      <th>order_approved_at</th>\n",
       "      <th>order_delivered_carrier_date</th>\n",
       "      <th>order_delivered_customer_date</th>\n",
       "      <th>order_estimated_delivery_date</th>\n",
       "    </tr>\n",
       "  </thead>\n",
       "  <tbody>\n",
       "    <tr>\n",
       "      <th>266</th>\n",
       "      <td>8e24261a7e58791d10cb1bf9da94df5c</td>\n",
       "      <td>64a254d30eed42cd0e6c36dddb88adf0</td>\n",
       "      <td>unavailable</td>\n",
       "      <td>2017-11-16 15:09:28</td>\n",
       "      <td>2017-11-16 15:26:57</td>\n",
       "      <td>NaT</td>\n",
       "      <td>NaT</td>\n",
       "      <td>2017-12-05</td>\n",
       "    </tr>\n",
       "    <tr>\n",
       "      <th>586</th>\n",
       "      <td>c272bcd21c287498b4883c7512019702</td>\n",
       "      <td>9582c5bbecc65eb568e2c1d839b5cba1</td>\n",
       "      <td>unavailable</td>\n",
       "      <td>2018-01-31 11:31:37</td>\n",
       "      <td>2018-01-31 14:23:50</td>\n",
       "      <td>NaT</td>\n",
       "      <td>NaT</td>\n",
       "      <td>2018-02-16</td>\n",
       "    </tr>\n",
       "    <tr>\n",
       "      <th>687</th>\n",
       "      <td>37553832a3a89c9b2db59701c357ca67</td>\n",
       "      <td>7607cd563696c27ede287e515812d528</td>\n",
       "      <td>unavailable</td>\n",
       "      <td>2017-08-14 17:38:02</td>\n",
       "      <td>2017-08-17 00:15:18</td>\n",
       "      <td>NaT</td>\n",
       "      <td>NaT</td>\n",
       "      <td>2017-09-05</td>\n",
       "    </tr>\n",
       "    <tr>\n",
       "      <th>737</th>\n",
       "      <td>d57e15fb07fd180f06ab3926b39edcd2</td>\n",
       "      <td>470b93b3f1cde85550fc74cd3a476c78</td>\n",
       "      <td>unavailable</td>\n",
       "      <td>2018-01-08 19:39:03</td>\n",
       "      <td>2018-01-09 07:26:08</td>\n",
       "      <td>NaT</td>\n",
       "      <td>NaT</td>\n",
       "      <td>2018-02-06</td>\n",
       "    </tr>\n",
       "    <tr>\n",
       "      <th>1160</th>\n",
       "      <td>2f634e2cebf8c0283e7ef0989f77d217</td>\n",
       "      <td>7353b0fb8e8d9675e3a704c60ca44ebe</td>\n",
       "      <td>unavailable</td>\n",
       "      <td>2017-09-27 20:55:33</td>\n",
       "      <td>2017-09-28 01:32:50</td>\n",
       "      <td>NaT</td>\n",
       "      <td>NaT</td>\n",
       "      <td>2017-10-27</td>\n",
       "    </tr>\n",
       "  </tbody>\n",
       "</table>\n",
       "</div>"
      ],
      "text/plain": [
       "                              order_id                       customer_id  \\\n",
       "266   8e24261a7e58791d10cb1bf9da94df5c  64a254d30eed42cd0e6c36dddb88adf0   \n",
       "586   c272bcd21c287498b4883c7512019702  9582c5bbecc65eb568e2c1d839b5cba1   \n",
       "687   37553832a3a89c9b2db59701c357ca67  7607cd563696c27ede287e515812d528   \n",
       "737   d57e15fb07fd180f06ab3926b39edcd2  470b93b3f1cde85550fc74cd3a476c78   \n",
       "1160  2f634e2cebf8c0283e7ef0989f77d217  7353b0fb8e8d9675e3a704c60ca44ebe   \n",
       "\n",
       "     order_status order_purchase_timestamp   order_approved_at  \\\n",
       "266   unavailable      2017-11-16 15:09:28 2017-11-16 15:26:57   \n",
       "586   unavailable      2018-01-31 11:31:37 2018-01-31 14:23:50   \n",
       "687   unavailable      2017-08-14 17:38:02 2017-08-17 00:15:18   \n",
       "737   unavailable      2018-01-08 19:39:03 2018-01-09 07:26:08   \n",
       "1160  unavailable      2017-09-27 20:55:33 2017-09-28 01:32:50   \n",
       "\n",
       "     order_delivered_carrier_date order_delivered_customer_date  \\\n",
       "266                           NaT                           NaT   \n",
       "586                           NaT                           NaT   \n",
       "687                           NaT                           NaT   \n",
       "737                           NaT                           NaT   \n",
       "1160                          NaT                           NaT   \n",
       "\n",
       "     order_estimated_delivery_date  \n",
       "266                     2017-12-05  \n",
       "586                     2018-02-16  \n",
       "687                     2017-09-05  \n",
       "737                     2018-02-06  \n",
       "1160                    2017-10-27  "
      ]
     },
     "execution_count": 22,
     "metadata": {},
     "output_type": "execute_result"
    }
   ],
   "source": [
    "orders.loc[orders.order_status == 'unavailable'].head()"
   ]
  },
  {
   "cell_type": "markdown",
   "metadata": {},
   "source": [
    "There're lots of unavailable orders. Let's drop n/a values to see if any of these were delivered."
   ]
  },
  {
   "cell_type": "code",
   "execution_count": 23,
   "metadata": {},
   "outputs": [
    {
     "data": {
      "text/plain": [
       "0"
      ]
     },
     "execution_count": 23,
     "metadata": {},
     "output_type": "execute_result"
    }
   ],
   "source": [
    "orders.loc[orders.order_status == 'unavailable'].dropna().size"
   ]
  },
  {
   "cell_type": "markdown",
   "metadata": {},
   "source": [
    "No of the `unavailable` orders were delivered.\n",
    "\n",
    "- *`unavailable` status is not considered as a purchase*\n",
    "\n",
    "### Let's check `shipped`, `invoiced`, and `processing` statuses:"
   ]
  },
  {
   "cell_type": "code",
   "execution_count": 24,
   "metadata": {},
   "outputs": [
    {
     "data": {
      "text/html": [
       "<div>\n",
       "<style scoped>\n",
       "    .dataframe tbody tr th:only-of-type {\n",
       "        vertical-align: middle;\n",
       "    }\n",
       "\n",
       "    .dataframe tbody tr th {\n",
       "        vertical-align: top;\n",
       "    }\n",
       "\n",
       "    .dataframe thead th {\n",
       "        text-align: right;\n",
       "    }\n",
       "</style>\n",
       "<table border=\"1\" class=\"dataframe\">\n",
       "  <thead>\n",
       "    <tr style=\"text-align: right;\">\n",
       "      <th></th>\n",
       "      <th>order_id</th>\n",
       "      <th>customer_id</th>\n",
       "      <th>order_status</th>\n",
       "      <th>order_purchase_timestamp</th>\n",
       "      <th>order_approved_at</th>\n",
       "      <th>order_delivered_carrier_date</th>\n",
       "      <th>order_delivered_customer_date</th>\n",
       "      <th>order_estimated_delivery_date</th>\n",
       "    </tr>\n",
       "  </thead>\n",
       "  <tbody>\n",
       "    <tr>\n",
       "      <th>62360</th>\n",
       "      <td>54282e97f61c23b78330c15b154c867d</td>\n",
       "      <td>4b7decb9b58e2569548b8b4c8e20e8d7</td>\n",
       "      <td>shipped</td>\n",
       "      <td>2018-09-03 09:06:57</td>\n",
       "      <td>2018-09-03 17:40:06</td>\n",
       "      <td>2018-09-04 15:25:00</td>\n",
       "      <td>NaT</td>\n",
       "      <td>2018-09-06</td>\n",
       "    </tr>\n",
       "    <tr>\n",
       "      <th>22575</th>\n",
       "      <td>6ca46f2b9a1592929647682510800e0e</td>\n",
       "      <td>13bf775a749925a15ef7cc1985b564f1</td>\n",
       "      <td>shipped</td>\n",
       "      <td>2018-08-24 17:02:19</td>\n",
       "      <td>2018-08-24 17:15:10</td>\n",
       "      <td>2018-08-27 15:15:00</td>\n",
       "      <td>NaT</td>\n",
       "      <td>2018-08-29</td>\n",
       "    </tr>\n",
       "    <tr>\n",
       "      <th>29651</th>\n",
       "      <td>f73b31435ce6dec43df056154c39a1ce</td>\n",
       "      <td>f0f671d4034e98cdf20f0c452d6db02b</td>\n",
       "      <td>shipped</td>\n",
       "      <td>2018-08-20 12:37:54</td>\n",
       "      <td>2018-08-20 15:35:42</td>\n",
       "      <td>2018-08-24 16:48:00</td>\n",
       "      <td>NaT</td>\n",
       "      <td>2018-08-27</td>\n",
       "    </tr>\n",
       "    <tr>\n",
       "      <th>38209</th>\n",
       "      <td>2b59ddd3b4175dd13033a71b56785a33</td>\n",
       "      <td>a192e83217022c634d89c73d018d8251</td>\n",
       "      <td>shipped</td>\n",
       "      <td>2018-08-18 11:59:18</td>\n",
       "      <td>2018-08-20 11:33:14</td>\n",
       "      <td>2018-08-23 14:57:00</td>\n",
       "      <td>NaT</td>\n",
       "      <td>2018-08-28</td>\n",
       "    </tr>\n",
       "    <tr>\n",
       "      <th>24944</th>\n",
       "      <td>99b3fb1a943fa5d4af2a3386f00fdd19</td>\n",
       "      <td>aa03e52d50af7237a5963ffb09dd8872</td>\n",
       "      <td>shipped</td>\n",
       "      <td>2018-08-22 09:01:17</td>\n",
       "      <td>2018-08-22 09:10:17</td>\n",
       "      <td>2018-08-23 14:09:00</td>\n",
       "      <td>NaT</td>\n",
       "      <td>2018-08-30</td>\n",
       "    </tr>\n",
       "  </tbody>\n",
       "</table>\n",
       "</div>"
      ],
      "text/plain": [
       "                               order_id                       customer_id  \\\n",
       "62360  54282e97f61c23b78330c15b154c867d  4b7decb9b58e2569548b8b4c8e20e8d7   \n",
       "22575  6ca46f2b9a1592929647682510800e0e  13bf775a749925a15ef7cc1985b564f1   \n",
       "29651  f73b31435ce6dec43df056154c39a1ce  f0f671d4034e98cdf20f0c452d6db02b   \n",
       "38209  2b59ddd3b4175dd13033a71b56785a33  a192e83217022c634d89c73d018d8251   \n",
       "24944  99b3fb1a943fa5d4af2a3386f00fdd19  aa03e52d50af7237a5963ffb09dd8872   \n",
       "\n",
       "      order_status order_purchase_timestamp   order_approved_at  \\\n",
       "62360      shipped      2018-09-03 09:06:57 2018-09-03 17:40:06   \n",
       "22575      shipped      2018-08-24 17:02:19 2018-08-24 17:15:10   \n",
       "29651      shipped      2018-08-20 12:37:54 2018-08-20 15:35:42   \n",
       "38209      shipped      2018-08-18 11:59:18 2018-08-20 11:33:14   \n",
       "24944      shipped      2018-08-22 09:01:17 2018-08-22 09:10:17   \n",
       "\n",
       "      order_delivered_carrier_date order_delivered_customer_date  \\\n",
       "62360          2018-09-04 15:25:00                           NaT   \n",
       "22575          2018-08-27 15:15:00                           NaT   \n",
       "29651          2018-08-24 16:48:00                           NaT   \n",
       "38209          2018-08-23 14:57:00                           NaT   \n",
       "24944          2018-08-23 14:09:00                           NaT   \n",
       "\n",
       "      order_estimated_delivery_date  \n",
       "62360                    2018-09-06  \n",
       "22575                    2018-08-29  \n",
       "29651                    2018-08-27  \n",
       "38209                    2018-08-28  \n",
       "24944                    2018-08-30  "
      ]
     },
     "execution_count": 24,
     "metadata": {},
     "output_type": "execute_result"
    }
   ],
   "source": [
    "shipped = orders.loc[orders.order_status == 'shipped'].sort_values('order_delivered_carrier_date', ascending=False)\n",
    "shipped.head()"
   ]
  },
  {
   "cell_type": "code",
   "execution_count": 25,
   "metadata": {},
   "outputs": [
    {
     "data": {
      "text/plain": [
       "(1107, 8)"
      ]
     },
     "execution_count": 25,
     "metadata": {},
     "output_type": "execute_result"
    }
   ],
   "source": [
    "shipped.shape"
   ]
  },
  {
   "cell_type": "code",
   "execution_count": 27,
   "metadata": {},
   "outputs": [
    {
     "data": {
      "text/html": [
       "<div>\n",
       "<style scoped>\n",
       "    .dataframe tbody tr th:only-of-type {\n",
       "        vertical-align: middle;\n",
       "    }\n",
       "\n",
       "    .dataframe tbody tr th {\n",
       "        vertical-align: top;\n",
       "    }\n",
       "\n",
       "    .dataframe thead th {\n",
       "        text-align: right;\n",
       "    }\n",
       "</style>\n",
       "<table border=\"1\" class=\"dataframe\">\n",
       "  <thead>\n",
       "    <tr style=\"text-align: right;\">\n",
       "      <th></th>\n",
       "      <th>order_id</th>\n",
       "      <th>customer_id</th>\n",
       "      <th>order_status</th>\n",
       "      <th>order_purchase_timestamp</th>\n",
       "      <th>order_approved_at</th>\n",
       "      <th>order_delivered_carrier_date</th>\n",
       "      <th>order_delivered_customer_date</th>\n",
       "      <th>order_estimated_delivery_date</th>\n",
       "    </tr>\n",
       "  </thead>\n",
       "  <tbody>\n",
       "    <tr>\n",
       "      <th>62360</th>\n",
       "      <td>54282e97f61c23b78330c15b154c867d</td>\n",
       "      <td>4b7decb9b58e2569548b8b4c8e20e8d7</td>\n",
       "      <td>shipped</td>\n",
       "      <td>2018-09-03 09:06:57</td>\n",
       "      <td>2018-09-03 17:40:06</td>\n",
       "      <td>2018-09-04 15:25:00</td>\n",
       "      <td>NaT</td>\n",
       "      <td>2018-09-06</td>\n",
       "    </tr>\n",
       "    <tr>\n",
       "      <th>32371</th>\n",
       "      <td>0efd0bc268d34da3f01f4ff25a6d4335</td>\n",
       "      <td>95446917717bb58d553d107d0f1668f6</td>\n",
       "      <td>shipped</td>\n",
       "      <td>2016-10-07 15:53:31</td>\n",
       "      <td>2016-10-07 16:12:22</td>\n",
       "      <td>2016-10-11 16:12:23</td>\n",
       "      <td>NaT</td>\n",
       "      <td>2016-12-13</td>\n",
       "    </tr>\n",
       "  </tbody>\n",
       "</table>\n",
       "</div>"
      ],
      "text/plain": [
       "                               order_id                       customer_id  \\\n",
       "62360  54282e97f61c23b78330c15b154c867d  4b7decb9b58e2569548b8b4c8e20e8d7   \n",
       "32371  0efd0bc268d34da3f01f4ff25a6d4335  95446917717bb58d553d107d0f1668f6   \n",
       "\n",
       "      order_status order_purchase_timestamp   order_approved_at  \\\n",
       "62360      shipped      2018-09-03 09:06:57 2018-09-03 17:40:06   \n",
       "32371      shipped      2016-10-07 15:53:31 2016-10-07 16:12:22   \n",
       "\n",
       "      order_delivered_carrier_date order_delivered_customer_date  \\\n",
       "62360          2018-09-04 15:25:00                           NaT   \n",
       "32371          2016-10-11 16:12:23                           NaT   \n",
       "\n",
       "      order_estimated_delivery_date  \n",
       "62360                    2018-09-06  \n",
       "32371                    2016-12-13  "
      ]
     },
     "execution_count": 27,
     "metadata": {},
     "output_type": "execute_result"
    }
   ],
   "source": [
    "pd.concat([shipped.head(1), shipped.tail(1)])"
   ]
  },
  {
   "cell_type": "markdown",
   "metadata": {},
   "source": [
    "The dates range from 2016-10-11 to 2018-09-04, with order dates a day before shipping.\n",
    "\n",
    "**Interim conclusion**\n",
    "- It's possible that we still need to receive data from the logistics company regarding the delivery date of the user's order. Therefore, we may treat these orders as delivered and treat them as a purchase."
   ]
  },
  {
   "cell_type": "markdown",
   "metadata": {},
   "source": [
    "#### Invoiced status\n",
    "\n",
    "Let's verify if the `invoiced` status only contains the latest paid orders pending delivery and if there are no other issues with the status."
   ]
  },
  {
   "cell_type": "code",
   "execution_count": 30,
   "metadata": {},
   "outputs": [
    {
     "data": {
      "text/html": [
       "<div>\n",
       "<style scoped>\n",
       "    .dataframe tbody tr th:only-of-type {\n",
       "        vertical-align: middle;\n",
       "    }\n",
       "\n",
       "    .dataframe tbody tr th {\n",
       "        vertical-align: top;\n",
       "    }\n",
       "\n",
       "    .dataframe thead th {\n",
       "        text-align: right;\n",
       "    }\n",
       "</style>\n",
       "<table border=\"1\" class=\"dataframe\">\n",
       "  <thead>\n",
       "    <tr style=\"text-align: right;\">\n",
       "      <th></th>\n",
       "      <th>order_id</th>\n",
       "      <th>customer_id</th>\n",
       "      <th>order_status</th>\n",
       "      <th>order_purchase_timestamp</th>\n",
       "      <th>order_approved_at</th>\n",
       "      <th>order_delivered_carrier_date</th>\n",
       "      <th>order_delivered_customer_date</th>\n",
       "      <th>order_estimated_delivery_date</th>\n",
       "    </tr>\n",
       "  </thead>\n",
       "  <tbody>\n",
       "    <tr>\n",
       "      <th>56185</th>\n",
       "      <td>c3fd18a4aeb8e2d589b0248ce60e91b7</td>\n",
       "      <td>17c867817e32d1474241a11bb120d4c4</td>\n",
       "      <td>invoiced</td>\n",
       "      <td>2018-08-14 18:45:08</td>\n",
       "      <td>2018-08-14 19:05:23</td>\n",
       "      <td>NaT</td>\n",
       "      <td>NaT</td>\n",
       "      <td>2018-08-27</td>\n",
       "    </tr>\n",
       "    <tr>\n",
       "      <th>82498</th>\n",
       "      <td>67d06af97696c95df2bb26acf82db637</td>\n",
       "      <td>d3ddbbd220a088a3e353cd270c184e60</td>\n",
       "      <td>invoiced</td>\n",
       "      <td>2018-08-09 17:18:57</td>\n",
       "      <td>2018-08-09 17:50:12</td>\n",
       "      <td>NaT</td>\n",
       "      <td>NaT</td>\n",
       "      <td>2018-08-17</td>\n",
       "    </tr>\n",
       "    <tr>\n",
       "      <th>35918</th>\n",
       "      <td>a03ac1d748cc1533566bf2c8199159d4</td>\n",
       "      <td>d89f76444e908c953bd1f8390aec9a00</td>\n",
       "      <td>invoiced</td>\n",
       "      <td>2018-08-09 06:43:29</td>\n",
       "      <td>2018-08-09 06:55:06</td>\n",
       "      <td>NaT</td>\n",
       "      <td>NaT</td>\n",
       "      <td>2018-08-24</td>\n",
       "    </tr>\n",
       "    <tr>\n",
       "      <th>82392</th>\n",
       "      <td>2da6df6ecc3f69f3642ce1fafad85d5a</td>\n",
       "      <td>d04b499809157673780addf5719f7af1</td>\n",
       "      <td>invoiced</td>\n",
       "      <td>2018-08-07 22:22:53</td>\n",
       "      <td>2018-08-07 22:35:23</td>\n",
       "      <td>NaT</td>\n",
       "      <td>NaT</td>\n",
       "      <td>2018-08-15</td>\n",
       "    </tr>\n",
       "    <tr>\n",
       "      <th>70615</th>\n",
       "      <td>b81dc96814c73196e795524a469a2c35</td>\n",
       "      <td>ed3f4ba1e8981bd3773207b41a9de82b</td>\n",
       "      <td>invoiced</td>\n",
       "      <td>2018-08-07 19:13:51</td>\n",
       "      <td>2018-08-07 19:25:15</td>\n",
       "      <td>NaT</td>\n",
       "      <td>NaT</td>\n",
       "      <td>2018-08-21</td>\n",
       "    </tr>\n",
       "  </tbody>\n",
       "</table>\n",
       "</div>"
      ],
      "text/plain": [
       "                               order_id                       customer_id  \\\n",
       "56185  c3fd18a4aeb8e2d589b0248ce60e91b7  17c867817e32d1474241a11bb120d4c4   \n",
       "82498  67d06af97696c95df2bb26acf82db637  d3ddbbd220a088a3e353cd270c184e60   \n",
       "35918  a03ac1d748cc1533566bf2c8199159d4  d89f76444e908c953bd1f8390aec9a00   \n",
       "82392  2da6df6ecc3f69f3642ce1fafad85d5a  d04b499809157673780addf5719f7af1   \n",
       "70615  b81dc96814c73196e795524a469a2c35  ed3f4ba1e8981bd3773207b41a9de82b   \n",
       "\n",
       "      order_status order_purchase_timestamp   order_approved_at  \\\n",
       "56185     invoiced      2018-08-14 18:45:08 2018-08-14 19:05:23   \n",
       "82498     invoiced      2018-08-09 17:18:57 2018-08-09 17:50:12   \n",
       "35918     invoiced      2018-08-09 06:43:29 2018-08-09 06:55:06   \n",
       "82392     invoiced      2018-08-07 22:22:53 2018-08-07 22:35:23   \n",
       "70615     invoiced      2018-08-07 19:13:51 2018-08-07 19:25:15   \n",
       "\n",
       "      order_delivered_carrier_date order_delivered_customer_date  \\\n",
       "56185                          NaT                           NaT   \n",
       "82498                          NaT                           NaT   \n",
       "35918                          NaT                           NaT   \n",
       "82392                          NaT                           NaT   \n",
       "70615                          NaT                           NaT   \n",
       "\n",
       "      order_estimated_delivery_date  \n",
       "56185                    2018-08-27  \n",
       "82498                    2018-08-17  \n",
       "35918                    2018-08-24  \n",
       "82392                    2018-08-15  \n",
       "70615                    2018-08-21  "
      ]
     },
     "execution_count": 30,
     "metadata": {},
     "output_type": "execute_result"
    }
   ],
   "source": [
    "invoiced = orders.loc[orders.order_status == 'invoiced'].sort_values('order_purchase_timestamp', ascending=False)\n",
    "invoiced.head()"
   ]
  },
  {
   "cell_type": "code",
   "execution_count": 32,
   "metadata": {},
   "outputs": [
    {
     "data": {
      "text/plain": [
       "(314, 8)"
      ]
     },
     "execution_count": 32,
     "metadata": {},
     "output_type": "execute_result"
    }
   ],
   "source": [
    "invoiced.shape"
   ]
  },
  {
   "cell_type": "code",
   "execution_count": 33,
   "metadata": {},
   "outputs": [
    {
     "data": {
      "text/html": [
       "<div>\n",
       "<style scoped>\n",
       "    .dataframe tbody tr th:only-of-type {\n",
       "        vertical-align: middle;\n",
       "    }\n",
       "\n",
       "    .dataframe tbody tr th {\n",
       "        vertical-align: top;\n",
       "    }\n",
       "\n",
       "    .dataframe thead th {\n",
       "        text-align: right;\n",
       "    }\n",
       "</style>\n",
       "<table border=\"1\" class=\"dataframe\">\n",
       "  <thead>\n",
       "    <tr style=\"text-align: right;\">\n",
       "      <th></th>\n",
       "      <th>order_id</th>\n",
       "      <th>customer_id</th>\n",
       "      <th>order_status</th>\n",
       "      <th>order_purchase_timestamp</th>\n",
       "      <th>order_approved_at</th>\n",
       "      <th>order_delivered_carrier_date</th>\n",
       "      <th>order_delivered_customer_date</th>\n",
       "      <th>order_estimated_delivery_date</th>\n",
       "    </tr>\n",
       "  </thead>\n",
       "  <tbody>\n",
       "    <tr>\n",
       "      <th>56185</th>\n",
       "      <td>c3fd18a4aeb8e2d589b0248ce60e91b7</td>\n",
       "      <td>17c867817e32d1474241a11bb120d4c4</td>\n",
       "      <td>invoiced</td>\n",
       "      <td>2018-08-14 18:45:08</td>\n",
       "      <td>2018-08-14 19:05:23</td>\n",
       "      <td>NaT</td>\n",
       "      <td>NaT</td>\n",
       "      <td>2018-08-27</td>\n",
       "    </tr>\n",
       "    <tr>\n",
       "      <th>78824</th>\n",
       "      <td>dd359d3c294458c6d642b2eea9212bf5</td>\n",
       "      <td>5c58d1ea5a893380ecdd96dd6dfd5ec5</td>\n",
       "      <td>invoiced</td>\n",
       "      <td>2016-10-04 13:02:10</td>\n",
       "      <td>2016-10-05 03:08:27</td>\n",
       "      <td>NaT</td>\n",
       "      <td>NaT</td>\n",
       "      <td>2016-11-24</td>\n",
       "    </tr>\n",
       "  </tbody>\n",
       "</table>\n",
       "</div>"
      ],
      "text/plain": [
       "                               order_id                       customer_id  \\\n",
       "56185  c3fd18a4aeb8e2d589b0248ce60e91b7  17c867817e32d1474241a11bb120d4c4   \n",
       "78824  dd359d3c294458c6d642b2eea9212bf5  5c58d1ea5a893380ecdd96dd6dfd5ec5   \n",
       "\n",
       "      order_status order_purchase_timestamp   order_approved_at  \\\n",
       "56185     invoiced      2018-08-14 18:45:08 2018-08-14 19:05:23   \n",
       "78824     invoiced      2016-10-04 13:02:10 2016-10-05 03:08:27   \n",
       "\n",
       "      order_delivered_carrier_date order_delivered_customer_date  \\\n",
       "56185                          NaT                           NaT   \n",
       "78824                          NaT                           NaT   \n",
       "\n",
       "      order_estimated_delivery_date  \n",
       "56185                    2018-08-27  \n",
       "78824                    2016-11-24  "
      ]
     },
     "execution_count": 33,
     "metadata": {},
     "output_type": "execute_result"
    }
   ],
   "source": [
    "pd.concat([invoiced.head(1), invoiced.tail(1)])"
   ]
  },
  {
   "cell_type": "markdown",
   "metadata": {},
   "source": [
    "The date ranges for these orders are between October 4th, 2016, and August 14th, 2018. None of these orders were forwarded for delivery, and the last order date is almost two months before the previous date in our dataframe. Therefore, it's important to note that this is **not** the last order. \n",
    "- It's highly likely that the data regarding these orders has been lost.\n",
    "\n",
    "#### `Processing` status:"
   ]
  },
  {
   "cell_type": "code",
   "execution_count": 34,
   "metadata": {},
   "outputs": [
    {
     "data": {
      "text/html": [
       "<div>\n",
       "<style scoped>\n",
       "    .dataframe tbody tr th:only-of-type {\n",
       "        vertical-align: middle;\n",
       "    }\n",
       "\n",
       "    .dataframe tbody tr th {\n",
       "        vertical-align: top;\n",
       "    }\n",
       "\n",
       "    .dataframe thead th {\n",
       "        text-align: right;\n",
       "    }\n",
       "</style>\n",
       "<table border=\"1\" class=\"dataframe\">\n",
       "  <thead>\n",
       "    <tr style=\"text-align: right;\">\n",
       "      <th></th>\n",
       "      <th>order_id</th>\n",
       "      <th>customer_id</th>\n",
       "      <th>order_status</th>\n",
       "      <th>order_purchase_timestamp</th>\n",
       "      <th>order_approved_at</th>\n",
       "      <th>order_delivered_carrier_date</th>\n",
       "      <th>order_delivered_customer_date</th>\n",
       "      <th>order_estimated_delivery_date</th>\n",
       "    </tr>\n",
       "  </thead>\n",
       "  <tbody>\n",
       "    <tr>\n",
       "      <th>61386</th>\n",
       "      <td>8bc9548dbe844e1bf48ac197c5609045</td>\n",
       "      <td>d4dc57fd18dfe3e30be4d066d873d388</td>\n",
       "      <td>processing</td>\n",
       "      <td>2018-07-23 18:03:03</td>\n",
       "      <td>2018-07-24 10:32:19</td>\n",
       "      <td>NaT</td>\n",
       "      <td>NaT</td>\n",
       "      <td>2018-08-13</td>\n",
       "    </tr>\n",
       "    <tr>\n",
       "      <th>28651</th>\n",
       "      <td>83fc33b62b8c7c39e2258d081955143d</td>\n",
       "      <td>c6eb22e4e7b7e5b871c06250c3296ef9</td>\n",
       "      <td>processing</td>\n",
       "      <td>2018-05-15 20:00:48</td>\n",
       "      <td>2018-05-17 02:55:42</td>\n",
       "      <td>NaT</td>\n",
       "      <td>NaT</td>\n",
       "      <td>2018-05-30</td>\n",
       "    </tr>\n",
       "    <tr>\n",
       "      <th>20012</th>\n",
       "      <td>8124e0a6295df5f9ce4377ca0a8e0c18</td>\n",
       "      <td>6e14fc1f239d4384a91b043639b2e3b7</td>\n",
       "      <td>processing</td>\n",
       "      <td>2018-05-08 15:27:57</td>\n",
       "      <td>2018-05-09 17:36:39</td>\n",
       "      <td>NaT</td>\n",
       "      <td>NaT</td>\n",
       "      <td>2018-06-05</td>\n",
       "    </tr>\n",
       "    <tr>\n",
       "      <th>15581</th>\n",
       "      <td>eb3c78fe8b35f52d4369d69d383fc212</td>\n",
       "      <td>263f9cd6ec31b2a2f80e4e26cb235335</td>\n",
       "      <td>processing</td>\n",
       "      <td>2018-05-07 22:40:38</td>\n",
       "      <td>2018-05-07 22:52:41</td>\n",
       "      <td>NaT</td>\n",
       "      <td>NaT</td>\n",
       "      <td>2018-06-04</td>\n",
       "    </tr>\n",
       "    <tr>\n",
       "      <th>20069</th>\n",
       "      <td>57c432fd96e9d52639f048eb1b2a5b10</td>\n",
       "      <td>fdd0411bec46e2d9a15590016b897dc3</td>\n",
       "      <td>processing</td>\n",
       "      <td>2018-05-07 19:30:29</td>\n",
       "      <td>2018-05-09 04:31:31</td>\n",
       "      <td>NaT</td>\n",
       "      <td>NaT</td>\n",
       "      <td>2018-06-04</td>\n",
       "    </tr>\n",
       "  </tbody>\n",
       "</table>\n",
       "</div>"
      ],
      "text/plain": [
       "                               order_id                       customer_id  \\\n",
       "61386  8bc9548dbe844e1bf48ac197c5609045  d4dc57fd18dfe3e30be4d066d873d388   \n",
       "28651  83fc33b62b8c7c39e2258d081955143d  c6eb22e4e7b7e5b871c06250c3296ef9   \n",
       "20012  8124e0a6295df5f9ce4377ca0a8e0c18  6e14fc1f239d4384a91b043639b2e3b7   \n",
       "15581  eb3c78fe8b35f52d4369d69d383fc212  263f9cd6ec31b2a2f80e4e26cb235335   \n",
       "20069  57c432fd96e9d52639f048eb1b2a5b10  fdd0411bec46e2d9a15590016b897dc3   \n",
       "\n",
       "      order_status order_purchase_timestamp   order_approved_at  \\\n",
       "61386   processing      2018-07-23 18:03:03 2018-07-24 10:32:19   \n",
       "28651   processing      2018-05-15 20:00:48 2018-05-17 02:55:42   \n",
       "20012   processing      2018-05-08 15:27:57 2018-05-09 17:36:39   \n",
       "15581   processing      2018-05-07 22:40:38 2018-05-07 22:52:41   \n",
       "20069   processing      2018-05-07 19:30:29 2018-05-09 04:31:31   \n",
       "\n",
       "      order_delivered_carrier_date order_delivered_customer_date  \\\n",
       "61386                          NaT                           NaT   \n",
       "28651                          NaT                           NaT   \n",
       "20012                          NaT                           NaT   \n",
       "15581                          NaT                           NaT   \n",
       "20069                          NaT                           NaT   \n",
       "\n",
       "      order_estimated_delivery_date  \n",
       "61386                    2018-08-13  \n",
       "28651                    2018-05-30  \n",
       "20012                    2018-06-05  \n",
       "15581                    2018-06-04  \n",
       "20069                    2018-06-04  "
      ]
     },
     "execution_count": 34,
     "metadata": {},
     "output_type": "execute_result"
    }
   ],
   "source": [
    "processing = orders.loc[orders.order_status == 'processing'].sort_values('order_purchase_timestamp', ascending=False)\n",
    "processing.head()"
   ]
  },
  {
   "cell_type": "code",
   "execution_count": 35,
   "metadata": {},
   "outputs": [
    {
     "data": {
      "text/plain": [
       "(301, 8)"
      ]
     },
     "execution_count": 35,
     "metadata": {},
     "output_type": "execute_result"
    }
   ],
   "source": [
    "processing.shape"
   ]
  },
  {
   "cell_type": "code",
   "execution_count": 36,
   "metadata": {},
   "outputs": [
    {
     "data": {
      "text/html": [
       "<div>\n",
       "<style scoped>\n",
       "    .dataframe tbody tr th:only-of-type {\n",
       "        vertical-align: middle;\n",
       "    }\n",
       "\n",
       "    .dataframe tbody tr th {\n",
       "        vertical-align: top;\n",
       "    }\n",
       "\n",
       "    .dataframe thead th {\n",
       "        text-align: right;\n",
       "    }\n",
       "</style>\n",
       "<table border=\"1\" class=\"dataframe\">\n",
       "  <thead>\n",
       "    <tr style=\"text-align: right;\">\n",
       "      <th></th>\n",
       "      <th>order_id</th>\n",
       "      <th>customer_id</th>\n",
       "      <th>order_status</th>\n",
       "      <th>order_purchase_timestamp</th>\n",
       "      <th>order_approved_at</th>\n",
       "      <th>order_delivered_carrier_date</th>\n",
       "      <th>order_delivered_customer_date</th>\n",
       "      <th>order_estimated_delivery_date</th>\n",
       "    </tr>\n",
       "  </thead>\n",
       "  <tbody>\n",
       "    <tr>\n",
       "      <th>61386</th>\n",
       "      <td>8bc9548dbe844e1bf48ac197c5609045</td>\n",
       "      <td>d4dc57fd18dfe3e30be4d066d873d388</td>\n",
       "      <td>processing</td>\n",
       "      <td>2018-07-23 18:03:03</td>\n",
       "      <td>2018-07-24 10:32:19</td>\n",
       "      <td>NaT</td>\n",
       "      <td>NaT</td>\n",
       "      <td>2018-08-13</td>\n",
       "    </tr>\n",
       "    <tr>\n",
       "      <th>324</th>\n",
       "      <td>d3c8851a6651eeff2f73b0e011ac45d0</td>\n",
       "      <td>957f8e082185574de25992dc659ebbc0</td>\n",
       "      <td>processing</td>\n",
       "      <td>2016-10-05 22:44:13</td>\n",
       "      <td>2016-10-06 15:51:05</td>\n",
       "      <td>NaT</td>\n",
       "      <td>NaT</td>\n",
       "      <td>2016-12-09</td>\n",
       "    </tr>\n",
       "  </tbody>\n",
       "</table>\n",
       "</div>"
      ],
      "text/plain": [
       "                               order_id                       customer_id  \\\n",
       "61386  8bc9548dbe844e1bf48ac197c5609045  d4dc57fd18dfe3e30be4d066d873d388   \n",
       "324    d3c8851a6651eeff2f73b0e011ac45d0  957f8e082185574de25992dc659ebbc0   \n",
       "\n",
       "      order_status order_purchase_timestamp   order_approved_at  \\\n",
       "61386   processing      2018-07-23 18:03:03 2018-07-24 10:32:19   \n",
       "324     processing      2016-10-05 22:44:13 2016-10-06 15:51:05   \n",
       "\n",
       "      order_delivered_carrier_date order_delivered_customer_date  \\\n",
       "61386                          NaT                           NaT   \n",
       "324                            NaT                           NaT   \n",
       "\n",
       "      order_estimated_delivery_date  \n",
       "61386                    2018-08-13  \n",
       "324                      2016-12-09  "
      ]
     },
     "execution_count": 36,
     "metadata": {},
     "output_type": "execute_result"
    }
   ],
   "source": [
    "pd.concat([processing.head(1), processing.tail(1)])"
   ]
  },
  {
   "cell_type": "markdown",
   "metadata": {},
   "source": [
    "Orders with `processing` status can be found throughout the observation period. The Max date is 2018-07-23, more than three months before our last date in the dataframe. Thus, the `processing` status also does **not** describe the latest purchases.\n",
    "\n",
    "**Conclusion**\n",
    "- As orders with `shipped` status were delivered to the logistics company from us, we can consider them as completed purchases. None of the other statuses can be considered as a purchase.\n",
    "\n",
    "#### As a result, only the orders with `delivered` and `shipped` statuses can be considered as **purchase**."
   ]
  },
  {
   "cell_type": "markdown",
   "metadata": {},
   "source": [
    "---"
   ]
  },
  {
   "cell_type": "markdown",
   "metadata": {},
   "source": [
    "### items"
   ]
  },
  {
   "cell_type": "code",
   "execution_count": 37,
   "metadata": {},
   "outputs": [
    {
     "data": {
      "text/html": [
       "<div>\n",
       "<style scoped>\n",
       "    .dataframe tbody tr th:only-of-type {\n",
       "        vertical-align: middle;\n",
       "    }\n",
       "\n",
       "    .dataframe tbody tr th {\n",
       "        vertical-align: top;\n",
       "    }\n",
       "\n",
       "    .dataframe thead th {\n",
       "        text-align: right;\n",
       "    }\n",
       "</style>\n",
       "<table border=\"1\" class=\"dataframe\">\n",
       "  <thead>\n",
       "    <tr style=\"text-align: right;\">\n",
       "      <th></th>\n",
       "      <th>order_id</th>\n",
       "      <th>order_item_id</th>\n",
       "      <th>product_id</th>\n",
       "      <th>seller_id</th>\n",
       "      <th>shipping_limit_date</th>\n",
       "      <th>price</th>\n",
       "      <th>freight_value</th>\n",
       "    </tr>\n",
       "  </thead>\n",
       "  <tbody>\n",
       "    <tr>\n",
       "      <th>0</th>\n",
       "      <td>00010242fe8c5a6d1ba2dd792cb16214</td>\n",
       "      <td>1</td>\n",
       "      <td>4244733e06e7ecb4970a6e2683c13e61</td>\n",
       "      <td>48436dade18ac8b2bce089ec2a041202</td>\n",
       "      <td>2017-09-19 09:45:35</td>\n",
       "      <td>58.90</td>\n",
       "      <td>13.29</td>\n",
       "    </tr>\n",
       "    <tr>\n",
       "      <th>1</th>\n",
       "      <td>00018f77f2f0320c557190d7a144bdd3</td>\n",
       "      <td>1</td>\n",
       "      <td>e5f2d52b802189ee658865ca93d83a8f</td>\n",
       "      <td>dd7ddc04e1b6c2c614352b383efe2d36</td>\n",
       "      <td>2017-05-03 11:05:13</td>\n",
       "      <td>239.90</td>\n",
       "      <td>19.93</td>\n",
       "    </tr>\n",
       "    <tr>\n",
       "      <th>2</th>\n",
       "      <td>000229ec398224ef6ca0657da4fc703e</td>\n",
       "      <td>1</td>\n",
       "      <td>c777355d18b72b67abbeef9df44fd0fd</td>\n",
       "      <td>5b51032eddd242adc84c38acab88f23d</td>\n",
       "      <td>2018-01-18 14:48:30</td>\n",
       "      <td>199.00</td>\n",
       "      <td>17.87</td>\n",
       "    </tr>\n",
       "    <tr>\n",
       "      <th>3</th>\n",
       "      <td>00024acbcdf0a6daa1e931b038114c75</td>\n",
       "      <td>1</td>\n",
       "      <td>7634da152a4610f1595efa32f14722fc</td>\n",
       "      <td>9d7a1d34a5052409006425275ba1c2b4</td>\n",
       "      <td>2018-08-15 10:10:18</td>\n",
       "      <td>12.99</td>\n",
       "      <td>12.79</td>\n",
       "    </tr>\n",
       "    <tr>\n",
       "      <th>4</th>\n",
       "      <td>00042b26cf59d7ce69dfabb4e55b4fd9</td>\n",
       "      <td>1</td>\n",
       "      <td>ac6c3623068f30de03045865e4e10089</td>\n",
       "      <td>df560393f3a51e74553ab94004ba5c87</td>\n",
       "      <td>2017-02-13 13:57:51</td>\n",
       "      <td>199.90</td>\n",
       "      <td>18.14</td>\n",
       "    </tr>\n",
       "  </tbody>\n",
       "</table>\n",
       "</div>"
      ],
      "text/plain": [
       "                           order_id  order_item_id  \\\n",
       "0  00010242fe8c5a6d1ba2dd792cb16214              1   \n",
       "1  00018f77f2f0320c557190d7a144bdd3              1   \n",
       "2  000229ec398224ef6ca0657da4fc703e              1   \n",
       "3  00024acbcdf0a6daa1e931b038114c75              1   \n",
       "4  00042b26cf59d7ce69dfabb4e55b4fd9              1   \n",
       "\n",
       "                         product_id                         seller_id  \\\n",
       "0  4244733e06e7ecb4970a6e2683c13e61  48436dade18ac8b2bce089ec2a041202   \n",
       "1  e5f2d52b802189ee658865ca93d83a8f  dd7ddc04e1b6c2c614352b383efe2d36   \n",
       "2  c777355d18b72b67abbeef9df44fd0fd  5b51032eddd242adc84c38acab88f23d   \n",
       "3  7634da152a4610f1595efa32f14722fc  9d7a1d34a5052409006425275ba1c2b4   \n",
       "4  ac6c3623068f30de03045865e4e10089  df560393f3a51e74553ab94004ba5c87   \n",
       "\n",
       "  shipping_limit_date   price  freight_value  \n",
       "0 2017-09-19 09:45:35   58.90          13.29  \n",
       "1 2017-05-03 11:05:13  239.90          19.93  \n",
       "2 2018-01-18 14:48:30  199.00          17.87  \n",
       "3 2018-08-15 10:10:18   12.99          12.79  \n",
       "4 2017-02-13 13:57:51  199.90          18.14  "
      ]
     },
     "execution_count": 37,
     "metadata": {},
     "output_type": "execute_result"
    }
   ],
   "source": [
    "items = pd.read_csv('olist_order_items_dataset.csv', parse_dates=['shipping_limit_date'])\n",
    "items.head()"
   ]
  },
  {
   "cell_type": "code",
   "execution_count": 38,
   "metadata": {},
   "outputs": [
    {
     "data": {
      "text/plain": [
       "(112650, 7)"
      ]
     },
     "execution_count": 38,
     "metadata": {},
     "output_type": "execute_result"
    }
   ],
   "source": [
    "items.shape"
   ]
  },
  {
   "cell_type": "markdown",
   "metadata": {},
   "source": [
    "This table has 112650 rows, which is considerably higher compared to the previously explored dataframes."
   ]
  },
  {
   "cell_type": "code",
   "execution_count": 39,
   "metadata": {},
   "outputs": [
    {
     "data": {
      "text/plain": [
       "order_id               98666\n",
       "order_item_id             21\n",
       "product_id             32951\n",
       "seller_id               3095\n",
       "shipping_limit_date    93318\n",
       "price                   5968\n",
       "freight_value           6999\n",
       "dtype: int64"
      ]
     },
     "execution_count": 39,
     "metadata": {},
     "output_type": "execute_result"
    }
   ],
   "source": [
    "items.nunique()"
   ]
  },
  {
   "cell_type": "markdown",
   "metadata": {},
   "source": [
    "We have 98666 orders listed in the current dataframe, while in the `orders` table, we had 99441 entries.\n",
    "\n",
    "Let's check the statuses of the orders that are not present in the current dataframe."
   ]
  },
  {
   "cell_type": "code",
   "execution_count": 40,
   "metadata": {},
   "outputs": [
    {
     "data": {
      "text/plain": [
       "order_status\n",
       "unavailable    603\n",
       "canceled       164\n",
       "created          5\n",
       "invoiced         2\n",
       "shipped          1\n",
       "Name: count, dtype: int64"
      ]
     },
     "execution_count": 40,
     "metadata": {},
     "output_type": "execute_result"
    }
   ],
   "source": [
    "orders_not_in_items = orders.loc[~orders.order_id.isin(items.order_id)]\n",
    "orders_not_in_items.order_status.value_counts()"
   ]
  },
  {
   "cell_type": "markdown",
   "metadata": {},
   "source": [
    "As only the `shipped` status from the listed ones is considered a purchase, let's check this order."
   ]
  },
  {
   "cell_type": "code",
   "execution_count": 41,
   "metadata": {},
   "outputs": [
    {
     "data": {
      "text/html": [
       "<div>\n",
       "<style scoped>\n",
       "    .dataframe tbody tr th:only-of-type {\n",
       "        vertical-align: middle;\n",
       "    }\n",
       "\n",
       "    .dataframe tbody tr th {\n",
       "        vertical-align: top;\n",
       "    }\n",
       "\n",
       "    .dataframe thead th {\n",
       "        text-align: right;\n",
       "    }\n",
       "</style>\n",
       "<table border=\"1\" class=\"dataframe\">\n",
       "  <thead>\n",
       "    <tr style=\"text-align: right;\">\n",
       "      <th></th>\n",
       "      <th>order_id</th>\n",
       "      <th>customer_id</th>\n",
       "      <th>order_status</th>\n",
       "      <th>order_purchase_timestamp</th>\n",
       "      <th>order_approved_at</th>\n",
       "      <th>order_delivered_carrier_date</th>\n",
       "      <th>order_delivered_customer_date</th>\n",
       "      <th>order_estimated_delivery_date</th>\n",
       "    </tr>\n",
       "  </thead>\n",
       "  <tbody>\n",
       "    <tr>\n",
       "      <th>23254</th>\n",
       "      <td>a68ce1686d536ca72bd2dadc4b8671e5</td>\n",
       "      <td>d7bed5fac093a4136216072abaf599d5</td>\n",
       "      <td>shipped</td>\n",
       "      <td>2016-10-05 01:47:40</td>\n",
       "      <td>2016-10-07 03:11:22</td>\n",
       "      <td>2016-11-07 16:37:37</td>\n",
       "      <td>NaT</td>\n",
       "      <td>2016-12-01</td>\n",
       "    </tr>\n",
       "  </tbody>\n",
       "</table>\n",
       "</div>"
      ],
      "text/plain": [
       "                               order_id                       customer_id  \\\n",
       "23254  a68ce1686d536ca72bd2dadc4b8671e5  d7bed5fac093a4136216072abaf599d5   \n",
       "\n",
       "      order_status order_purchase_timestamp   order_approved_at  \\\n",
       "23254      shipped      2016-10-05 01:47:40 2016-10-07 03:11:22   \n",
       "\n",
       "      order_delivered_carrier_date order_delivered_customer_date  \\\n",
       "23254          2016-11-07 16:37:37                           NaT   \n",
       "\n",
       "      order_estimated_delivery_date  \n",
       "23254                    2016-12-01  "
      ]
     },
     "execution_count": 41,
     "metadata": {},
     "output_type": "execute_result"
    }
   ],
   "source": [
    "orders_not_in_items.loc[orders_not_in_items.order_status == 'shipped']"
   ]
  },
  {
   "cell_type": "code",
   "execution_count": 42,
   "metadata": {},
   "outputs": [
    {
     "data": {
      "text/html": [
       "<div>\n",
       "<style scoped>\n",
       "    .dataframe tbody tr th:only-of-type {\n",
       "        vertical-align: middle;\n",
       "    }\n",
       "\n",
       "    .dataframe tbody tr th {\n",
       "        vertical-align: top;\n",
       "    }\n",
       "\n",
       "    .dataframe thead th {\n",
       "        text-align: right;\n",
       "    }\n",
       "</style>\n",
       "<table border=\"1\" class=\"dataframe\">\n",
       "  <thead>\n",
       "    <tr style=\"text-align: right;\">\n",
       "      <th></th>\n",
       "      <th>customer_id</th>\n",
       "      <th>customer_unique_id</th>\n",
       "      <th>customer_zip_code_prefix</th>\n",
       "      <th>customer_city</th>\n",
       "      <th>customer_state</th>\n",
       "    </tr>\n",
       "  </thead>\n",
       "  <tbody>\n",
       "    <tr>\n",
       "      <th>54448</th>\n",
       "      <td>d7bed5fac093a4136216072abaf599d5</td>\n",
       "      <td>f15a952dfc52308d0361288fbf42c7b3</td>\n",
       "      <td>91250</td>\n",
       "      <td>porto alegre</td>\n",
       "      <td>RS</td>\n",
       "    </tr>\n",
       "  </tbody>\n",
       "</table>\n",
       "</div>"
      ],
      "text/plain": [
       "                            customer_id                customer_unique_id  \\\n",
       "54448  d7bed5fac093a4136216072abaf599d5  f15a952dfc52308d0361288fbf42c7b3   \n",
       "\n",
       "       customer_zip_code_prefix customer_city customer_state  \n",
       "54448                     91250  porto alegre             RS  "
      ]
     },
     "execution_count": 42,
     "metadata": {},
     "output_type": "execute_result"
    }
   ],
   "source": [
    "customers.loc[customers.customer_id == 'd7bed5fac093a4136216072abaf599d5']"
   ]
  },
  {
   "cell_type": "markdown",
   "metadata": {},
   "source": [
    "The order `a68ce1686d536ca72bd2dadc4b8671e5` from user `d7bed5fac093a4136216072abaf599d5` is not available in the items dataframe, while the rest are present.\n",
    "Most likely, details about this order needed to be recovered. We can continue treating `shipped` status as a purchase.\n",
    "\n",
    "**Summary**\n",
    "- We can treat both `delivered` and `shipped` statuses as **purchases**. All `delivered` statuses are present in all dataframes. One `shipped` status is missing in the `items` dataframe. We can ignore this order while still considering the `shipped` status as a purchase."
   ]
  },
  {
   "cell_type": "code",
   "execution_count": null,
   "metadata": {},
   "outputs": [],
   "source": []
  }
 ],
 "metadata": {
  "kernelspec": {
   "display_name": "Python 3 (ipykernel)",
   "language": "python",
   "name": "python3"
  },
  "language_info": {
   "codemirror_mode": {
    "name": "ipython",
    "version": 3
   },
   "file_extension": ".py",
   "mimetype": "text/x-python",
   "name": "python",
   "nbconvert_exporter": "python",
   "pygments_lexer": "ipython3",
   "version": "3.11.5"
  }
 },
 "nbformat": 4,
 "nbformat_minor": 4
}
